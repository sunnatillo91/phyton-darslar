{
  "nbformat": 4,
  "nbformat_minor": 0,
  "metadata": {
    "colab": {
      "provenance": [],
      "authorship_tag": "ABX9TyO2vgbwx0MraC1Jd6pAGA2j",
      "include_colab_link": true
    },
    "kernelspec": {
      "name": "python3",
      "display_name": "Python 3"
    },
    "language_info": {
      "name": "python"
    }
  },
  "cells": [
    {
      "cell_type": "markdown",
      "metadata": {
        "id": "view-in-github",
        "colab_type": "text"
      },
      "source": [
        "<a href=\"https://colab.research.google.com/github/sunnatillo91/phyton-darslar/blob/main/test_colab.ipynb\" target=\"_parent\"><img src=\"https://colab.research.google.com/assets/colab-badge.svg\" alt=\"Open In Colab\"/></a>"
      ]
    },
    {
      "cell_type": "code",
      "execution_count": null,
      "metadata": {
        "id": "WAf_MmCGc4FY"
      },
      "outputs": [],
      "source": [
        "# kutubxonalarni tekshirish\n",
        "import pandas as pd\n",
        "import torch\n",
        "import tensorflow as tf\n",
        "import sklearn\n",
        "import numpy as n\n"
      ]
    },
    {
      "cell_type": "code",
      "source": [
        "# versiyalarni tekshirish\n",
        "print(pd.__version__)\n",
        "print(torch.__version__)\n",
        "print(tf.__version__)\n",
        "print(sklearn.__version__)"
      ],
      "metadata": {
        "colab": {
          "base_uri": "https://localhost:8080/"
        },
        "id": "3jl_feoJdA6h",
        "outputId": "4e64bb6a-1309-4fd4-dab7-382e9c5a488f"
      },
      "execution_count": null,
      "outputs": [
        {
          "output_type": "stream",
          "name": "stdout",
          "text": [
            "1.5.3\n",
            "2.1.0+cu121\n",
            "2.15.0\n",
            "1.2.2\n"
          ]
        }
      ]
    },
    {
      "cell_type": "code",
      "source": [],
      "metadata": {
        "id": "rkTY08mwdMC0"
      },
      "execution_count": null,
      "outputs": []
    }
  ]
}